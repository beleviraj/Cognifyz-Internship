{
 "cells": [
  {
   "cell_type": "code",
   "execution_count": 1,
   "metadata": {},
   "outputs": [],
   "source": [
    "import pandas as pd\n",
    "import numpy as np\n",
    "import matplotlib.pyplot as plt\n",
    "import seaborn as sns\n",
    "import os"
   ]
  },
  {
   "cell_type": "code",
   "execution_count": 2,
   "metadata": {},
   "outputs": [
    {
     "name": "stdout",
     "output_type": "stream",
     "text": [
      "c:\\Users\\ASUS\\OneDrive\\Desktop\\VIRAJ\\INTERNSHIPS\\cognifyz\n"
     ]
    }
   ],
   "source": [
    "\n",
    "import os\n",
    "print(os.getcwd())\n"
   ]
  },
  {
   "cell_type": "code",
   "execution_count": 3,
   "metadata": {},
   "outputs": [],
   "source": [
    "df=pd.read_csv(\"Dataset .csv\")"
   ]
  },
  {
   "cell_type": "code",
   "execution_count": 5,
   "metadata": {},
   "outputs": [
    {
     "data": {
      "text/plain": [
       "Restaurant ID           0\n",
       "Restaurant Name         0\n",
       "Country Code            0\n",
       "City                    0\n",
       "Address                 0\n",
       "Locality                0\n",
       "Locality Verbose        0\n",
       "Longitude               0\n",
       "Latitude                0\n",
       "Cuisines                9\n",
       "Average Cost for two    0\n",
       "Currency                0\n",
       "Has Table booking       0\n",
       "Has Online delivery     0\n",
       "Is delivering now       0\n",
       "Switch to order menu    0\n",
       "Price range             0\n",
       "Aggregate rating        0\n",
       "Rating color            0\n",
       "Rating text             0\n",
       "Votes                   0\n",
       "dtype: int64"
      ]
     },
     "execution_count": 5,
     "metadata": {},
     "output_type": "execute_result"
    }
   ],
   "source": [
    "df.isnull().sum()"
   ]
  },
  {
   "cell_type": "code",
   "execution_count": 6,
   "metadata": {},
   "outputs": [],
   "source": [
    "df_cleaned = df.dropna(subset=['Cuisines'])"
   ]
  },
  {
   "cell_type": "code",
   "execution_count": 7,
   "metadata": {},
   "outputs": [
    {
     "data": {
      "text/plain": [
       "Restaurant ID           0\n",
       "Restaurant Name         0\n",
       "Country Code            0\n",
       "City                    0\n",
       "Address                 0\n",
       "Locality                0\n",
       "Locality Verbose        0\n",
       "Longitude               0\n",
       "Latitude                0\n",
       "Cuisines                0\n",
       "Average Cost for two    0\n",
       "Currency                0\n",
       "Has Table booking       0\n",
       "Has Online delivery     0\n",
       "Is delivering now       0\n",
       "Switch to order menu    0\n",
       "Price range             0\n",
       "Aggregate rating        0\n",
       "Rating color            0\n",
       "Rating text             0\n",
       "Votes                   0\n",
       "dtype: int64"
      ]
     },
     "execution_count": 7,
     "metadata": {},
     "output_type": "execute_result"
    }
   ],
   "source": [
    "df_cleaned.isnull().sum()"
   ]
  },
  {
   "cell_type": "markdown",
   "metadata": {},
   "source": [
    "<h1><b>LEVEL 1</b></h1>\n",
    "<h2>TASK 1</h2>\n",
    "\n",
    "<h3><b>1: </b>Top Four most common cuisines</h3>"
   ]
  },
  {
   "cell_type": "code",
   "execution_count": null,
   "metadata": {},
   "outputs": [
    {
     "data": {
      "text/plain": [
       "[('North Indian', 3960), ('Chinese', 2735), ('Fast Food', 1986)]"
      ]
     },
     "execution_count": 8,
     "metadata": {},
     "output_type": "execute_result"
    }
   ],
   "source": [
    "from collections import Counter\n",
    "cuisines_list=df['Cuisines'].str.split(', ').explode().dropna()\n",
    "cuisines_count=Counter(cuisines_list)\n",
    "top_cuisines=cuisines_count.most_common(3)\n",
    "top_cuisines"
   ]
  },
  {
   "cell_type": "markdown",
   "metadata": {},
   "source": [
    "<h3><b>2: </b> Restaurants that serve each of the top cuisines</h2>"
   ]
  },
  {
   "cell_type": "code",
   "execution_count": 9,
   "metadata": {},
   "outputs": [
    {
     "name": "stdout",
     "output_type": "stream",
     "text": [
      "[('North Indian', 41.461627054758665), ('Chinese', 28.635744948172963), ('Fast Food', 20.793634174431997)]\n"
     ]
    }
   ],
   "source": [
    "total_restaurants = len(df)\n",
    "percentage_top_cuisines = [(cuisine,(count / total_restaurants)*100) for cuisine, count in top_cuisines]\n",
    "print(percentage_top_cuisines)"
   ]
  },
  {
   "cell_type": "markdown",
   "metadata": {},
   "source": [
    "<h2>TASK 2</h2>\n",
    "<h3><b>1: </b>Identify the city with the highest number\n",
    "of restaurants in the dataset</h3>"
   ]
  },
  {
   "cell_type": "code",
   "execution_count": 10,
   "metadata": {},
   "outputs": [
    {
     "data": {
      "text/plain": [
       "('New Delhi', np.int64(5473))"
      ]
     },
     "execution_count": 10,
     "metadata": {},
     "output_type": "execute_result"
    }
   ],
   "source": [
    "city_counts = df['City'].value_counts()\n",
    "highest_city = city_counts.idxmax(), city_counts.max()\n",
    "highest_city"
   ]
  },
  {
   "cell_type": "markdown",
   "metadata": {},
   "source": [
    "<h3><b>2: </b>Calculate the average rating for restaurants in each city</h3>\n"
   ]
  },
  {
   "cell_type": "code",
   "execution_count": 11,
   "metadata": {},
   "outputs": [
    {
     "data": {
      "text/html": [
       "<div>\n",
       "<style scoped>\n",
       "    .dataframe tbody tr th:only-of-type {\n",
       "        vertical-align: middle;\n",
       "    }\n",
       "\n",
       "    .dataframe tbody tr th {\n",
       "        vertical-align: top;\n",
       "    }\n",
       "\n",
       "    .dataframe thead th {\n",
       "        text-align: right;\n",
       "    }\n",
       "</style>\n",
       "<table border=\"1\" class=\"dataframe\">\n",
       "  <thead>\n",
       "    <tr style=\"text-align: right;\">\n",
       "      <th></th>\n",
       "      <th>City</th>\n",
       "      <th>Aggregate rating</th>\n",
       "    </tr>\n",
       "  </thead>\n",
       "  <tbody>\n",
       "    <tr>\n",
       "      <th>0</th>\n",
       "      <td>Abu Dhabi</td>\n",
       "      <td>4.300000</td>\n",
       "    </tr>\n",
       "    <tr>\n",
       "      <th>1</th>\n",
       "      <td>Agra</td>\n",
       "      <td>3.965000</td>\n",
       "    </tr>\n",
       "    <tr>\n",
       "      <th>2</th>\n",
       "      <td>Ahmedabad</td>\n",
       "      <td>4.161905</td>\n",
       "    </tr>\n",
       "    <tr>\n",
       "      <th>3</th>\n",
       "      <td>Albany</td>\n",
       "      <td>3.555000</td>\n",
       "    </tr>\n",
       "    <tr>\n",
       "      <th>4</th>\n",
       "      <td>Allahabad</td>\n",
       "      <td>3.395000</td>\n",
       "    </tr>\n",
       "    <tr>\n",
       "      <th>...</th>\n",
       "      <td>...</td>\n",
       "      <td>...</td>\n",
       "    </tr>\n",
       "    <tr>\n",
       "      <th>136</th>\n",
       "      <td>Weirton</td>\n",
       "      <td>3.900000</td>\n",
       "    </tr>\n",
       "    <tr>\n",
       "      <th>137</th>\n",
       "      <td>Wellington City</td>\n",
       "      <td>4.250000</td>\n",
       "    </tr>\n",
       "    <tr>\n",
       "      <th>138</th>\n",
       "      <td>Winchester Bay</td>\n",
       "      <td>3.200000</td>\n",
       "    </tr>\n",
       "    <tr>\n",
       "      <th>139</th>\n",
       "      <td>Yorkton</td>\n",
       "      <td>3.300000</td>\n",
       "    </tr>\n",
       "    <tr>\n",
       "      <th>140</th>\n",
       "      <td>��stanbul</td>\n",
       "      <td>4.292857</td>\n",
       "    </tr>\n",
       "  </tbody>\n",
       "</table>\n",
       "<p>141 rows × 2 columns</p>\n",
       "</div>"
      ],
      "text/plain": [
       "                City  Aggregate rating\n",
       "0          Abu Dhabi          4.300000\n",
       "1               Agra          3.965000\n",
       "2          Ahmedabad          4.161905\n",
       "3             Albany          3.555000\n",
       "4          Allahabad          3.395000\n",
       "..               ...               ...\n",
       "136          Weirton          3.900000\n",
       "137  Wellington City          4.250000\n",
       "138   Winchester Bay          3.200000\n",
       "139          Yorkton          3.300000\n",
       "140        ��stanbul          4.292857\n",
       "\n",
       "[141 rows x 2 columns]"
      ]
     },
     "execution_count": 11,
     "metadata": {},
     "output_type": "execute_result"
    }
   ],
   "source": [
    "average_rating_per_city = df.groupby('City')['Aggregate rating'].mean().reset_index()\n",
    "average_rating_per_city.columns = ['City', 'Aggregate rating']\n",
    "average_rating_per_city"
   ]
  },
  {
   "cell_type": "markdown",
   "metadata": {},
   "source": [
    "<h3><b>3: </b>Determine the city with the highest\n",
    "average rating</h3>"
   ]
  },
  {
   "cell_type": "code",
   "execution_count": 12,
   "metadata": {},
   "outputs": [
    {
     "data": {
      "text/plain": [
       "City                Inner City\n",
       "Aggregate rating           4.9\n",
       "Name: 56, dtype: object"
      ]
     },
     "execution_count": 12,
     "metadata": {},
     "output_type": "execute_result"
    }
   ],
   "source": [
    "highest_average_rating_city = average_rating_per_city.loc[average_rating_per_city['Aggregate rating'].idxmax()]\n",
    "highest_average_rating_city"
   ]
  },
  {
   "cell_type": "code",
   "execution_count": 13,
   "metadata": {},
   "outputs": [
    {
     "data": {
      "text/plain": [
       "count    9542.000000\n",
       "mean        1.804968\n",
       "std         0.905563\n",
       "min         1.000000\n",
       "25%         1.000000\n",
       "50%         2.000000\n",
       "75%         2.000000\n",
       "max         4.000000\n",
       "Name: Price range, dtype: float64"
      ]
     },
     "execution_count": 13,
     "metadata": {},
     "output_type": "execute_result"
    }
   ],
   "source": [
    "df_cleaned['Price range'].describe()"
   ]
  },
  {
   "cell_type": "code",
   "execution_count": 14,
   "metadata": {},
   "outputs": [
    {
     "data": {
      "image/png": "[encoded data removed]",
      "text/plain": [
       "<Figure size 1000x1000 with 1 Axes>"
      ]
     },
     "metadata": {},
     "output_type": "display_data"
    }
   ],
   "source": [
    "plt.figure(figsize=(10,10))\n",
    "sns.boxplot(y='Price range',data=df_cleaned)\n",
    "plt.show()"
   ]
  },
  {
   "cell_type": "markdown",
   "metadata": {},
   "source": [
    "<h2>TASK 3</h2>\n",
    "<h3><b>1: </b>Create a histogram or bar chart tovisualize the distribution of price ranges among the restaurants</h3>"
   ]
  },
  {
   "cell_type": "code",
   "execution_count": 15,
   "metadata": {},
   "outputs": [
    {
     "data": {
      "image/png": "[encoded data removed]",
      "text/plain": [
       "<Figure size 1000x600 with 1 Axes>"
      ]
     },
     "metadata": {},
     "output_type": "display_data"
    }
   ],
   "source": [
    "plt.figure(figsize=(10,6))\n",
    "df_cleaned['Price range'].value_counts().sort_index().plot(kind='bar')\n",
    "plt.xlabel('price range')\n",
    "plt.ylabel('Number of Resturants')\n",
    "plt.grid(axis='y')\n",
    "plt.tight_layout()\n",
    "plt.show()"
   ]
  },
  {
   "cell_type": "markdown",
   "metadata": {},
   "source": [
    "<h3><b>2: </b>Calculate the percentage of restaurants in each price range category</h3>\n"
   ]
  },
  {
   "cell_type": "code",
   "execution_count": 16,
   "metadata": {},
   "outputs": [
    {
     "name": "stdout",
     "output_type": "stream",
     "text": [
      "   Price Range  Percentage\n",
      "0            1       46.53\n",
      "1            2       32.59\n",
      "2            3       14.74\n",
      "3            4        6.14\n"
     ]
    }
   ],
   "source": [
    "price_percentage=(df['Price range'].value_counts(normalize=True)*100).round(2)\n",
    "price_percentage_df = price_percentage.reset_index()\n",
    "price_percentage_df.columns = ['Price Range', 'Percentage']\n",
    "print(price_percentage_df)\n"
   ]
  },
  {
   "cell_type": "markdown",
   "metadata": {},
   "source": [
    "<h2>TASK 4</h2>\n",
    "<h3><b>1: </b>Determine the percentage of restaurants that offer online delivery</h3>"
   ]
  },
  {
   "cell_type": "code",
   "execution_count": 17,
   "metadata": {},
   "outputs": [
    {
     "data": {
      "text/html": [
       "<div>\n",
       "<style scoped>\n",
       "    .dataframe tbody tr th:only-of-type {\n",
       "        vertical-align: middle;\n",
       "    }\n",
       "\n",
       "    .dataframe tbody tr th {\n",
       "        vertical-align: top;\n",
       "    }\n",
       "\n",
       "    .dataframe thead th {\n",
       "        text-align: right;\n",
       "    }\n",
       "</style>\n",
       "<table border=\"1\" class=\"dataframe\">\n",
       "  <thead>\n",
       "    <tr style=\"text-align: right;\">\n",
       "      <th></th>\n",
       "      <th>Online Delivery</th>\n",
       "      <th>Percentage</th>\n",
       "    </tr>\n",
       "  </thead>\n",
       "  <tbody>\n",
       "    <tr>\n",
       "      <th>0</th>\n",
       "      <td>No</td>\n",
       "      <td>74.337766</td>\n",
       "    </tr>\n",
       "    <tr>\n",
       "      <th>1</th>\n",
       "      <td>Yes</td>\n",
       "      <td>25.662234</td>\n",
       "    </tr>\n",
       "  </tbody>\n",
       "</table>\n",
       "</div>"
      ],
      "text/plain": [
       "  Online Delivery  Percentage\n",
       "0              No   74.337766\n",
       "1             Yes   25.662234"
      ]
     },
     "execution_count": 17,
     "metadata": {},
     "output_type": "execute_result"
    }
   ],
   "source": [
    "\n",
    "online_delivery_count = df['Has Online delivery'].value_counts(normalize=True) * 100\n",
    "online_delivery_percentage = online_delivery_count.reset_index()\n",
    "online_delivery_percentage.columns = ['Online Delivery', 'Percentage']\n",
    "online_delivery_percentage"
   ]
  },
  {
   "cell_type": "markdown",
   "metadata": {},
   "source": [
    "<h3><b>2: </b>Compare the average ratings of restaurantswith and without online delivery</h3>"
   ]
  },
  {
   "cell_type": "code",
   "execution_count": 18,
   "metadata": {},
   "outputs": [
    {
     "data": {
      "text/html": [
       "<div>\n",
       "<style scoped>\n",
       "    .dataframe tbody tr th:only-of-type {\n",
       "        vertical-align: middle;\n",
       "    }\n",
       "\n",
       "    .dataframe tbody tr th {\n",
       "        vertical-align: top;\n",
       "    }\n",
       "\n",
       "    .dataframe thead th {\n",
       "        text-align: right;\n",
       "    }\n",
       "</style>\n",
       "<table border=\"1\" class=\"dataframe\">\n",
       "  <thead>\n",
       "    <tr style=\"text-align: right;\">\n",
       "      <th></th>\n",
       "      <th>Online Delivery</th>\n",
       "      <th>Average Rating</th>\n",
       "    </tr>\n",
       "  </thead>\n",
       "  <tbody>\n",
       "    <tr>\n",
       "      <th>0</th>\n",
       "      <td>No</td>\n",
       "      <td>2.465296</td>\n",
       "    </tr>\n",
       "    <tr>\n",
       "      <th>1</th>\n",
       "      <td>Yes</td>\n",
       "      <td>3.248837</td>\n",
       "    </tr>\n",
       "  </tbody>\n",
       "</table>\n",
       "</div>"
      ],
      "text/plain": [
       "  Online Delivery  Average Rating\n",
       "0              No        2.465296\n",
       "1             Yes        3.248837"
      ]
     },
     "execution_count": 18,
     "metadata": {},
     "output_type": "execute_result"
    }
   ],
   "source": [
    "average_rating_delivery = df.groupby('Has Online delivery')['Aggregate rating'].mean().reset_index()\n",
    "average_rating_delivery.columns = ['Online Delivery', 'Average Rating']\n",
    "average_rating_delivery"
   ]
  },
  {
   "cell_type": "markdown",
   "metadata": {},
   "source": [
    "<h1><b>LEVEL 3</b></h1>\n",
    "<h2>TASK 1</h2>\n",
    "\n",
    "<h3><b>1: </b>Analyze the text reviews to identify the most\n",
    "common positive and negative keywords</h3>"
   ]
  },
  {
   "cell_type": "code",
   "execution_count": 25,
   "metadata": {},
   "outputs": [
    {
     "name": "stdout",
     "output_type": "stream",
     "text": [
      "Most common positive keywords: {'excellent': 301, 'good': 3179}\n",
      "Most common negative keywords: {'poor': 186}\n"
     ]
    }
   ],
   "source": [
    "from collections import Counter\n",
    "import string\n",
    "\n",
    "all_reviews = \" \".join(df['Rating text'].dropna().str.lower())\n",
    "\n",
    "positive_words = {'excellent', 'amazing', 'good', 'great', 'fantastic', 'delicious', 'wonderful'}\n",
    "negative_words = {'bad', 'poor', 'terrible', 'awful', 'worst', 'mediocre', 'disappointing'}\n",
    "\n",
    "tokens = all_reviews.split()\n",
    "cleaned_tokens = [word.strip(string.punctuation) for word in tokens if word.isalpha()]\n",
    "\n",
    "\n",
    "word_counts = Counter(cleaned_tokens)\n",
    "\n",
    "\n",
    "positive_counts = {word: count for word, count in word_counts.items() if word in positive_words}\n",
    "negative_counts = {word: count for word, count in word_counts.items() if word in negative_words}\n",
    "\n",
    "print(\"Most common positive keywords:\", positive_counts)\n",
    "print(\"Most common negative keywords:\", negative_counts)"
   ]
  },
  {
   "cell_type": "markdown",
   "metadata": {},
   "source": [
    "<h3><b>2: </b>Calculate the average length of reviews and explore if there is a relationship between\n",
    "review length and rating </h3>"
   ]
  },
  {
   "cell_type": "code",
   "execution_count": 26,
   "metadata": {},
   "outputs": [
    {
     "name": "stdout",
     "output_type": "stream",
     "text": [
      "Average Review Length: 7.020730813527379\n",
      "Average Review Length by Rating:\n",
      " Aggregate rating\n",
      "0.0    9.0\n",
      "1.8    4.0\n",
      "1.9    4.0\n",
      "2.0    4.0\n",
      "2.1    4.0\n",
      "2.2    4.0\n",
      "2.3    4.0\n",
      "2.4    4.0\n",
      "2.5    7.0\n",
      "2.6    7.0\n",
      "2.7    7.0\n",
      "2.8    7.0\n",
      "2.9    7.0\n",
      "3.0    7.0\n",
      "3.1    7.0\n",
      "3.2    7.0\n",
      "3.3    7.0\n",
      "3.4    7.0\n",
      "3.5    4.0\n",
      "3.6    4.0\n",
      "3.7    4.0\n",
      "3.8    4.0\n",
      "3.9    4.0\n",
      "4.0    9.0\n",
      "4.1    9.0\n",
      "4.2    9.0\n",
      "4.3    9.0\n",
      "4.4    9.0\n",
      "4.5    9.0\n",
      "4.6    9.0\n",
      "4.7    9.0\n",
      "4.8    9.0\n",
      "4.9    9.0\n",
      "Name: Review Length, dtype: float64\n"
     ]
    }
   ],
   "source": [
    "\n",
    "df['Review Length'] = df['Rating text'].dropna().str.len()\n",
    "\n",
    "\n",
    "average_review_length = df['Review Length'].mean()\n",
    "print(\"Average Review Length:\", average_review_length)\n",
    "\n",
    "relationship = df.groupby('Aggregate rating')['Review Length'].mean()\n",
    "print(\"Average Review Length by Rating:\\n\", relationship)"
   ]
  },
  {
   "cell_type": "markdown",
   "metadata": {},
   "source": [
    "\n",
    "<h2>TASK 2</h2>\n",
    "<h3><b>1: </b>Identify the restaurants with the highest and\n",
    "lowest number of votes</h3>"
   ]
  },
  {
   "cell_type": "code",
   "execution_count": 27,
   "metadata": {},
   "outputs": [
    {
     "name": "stdout",
     "output_type": "stream",
     "text": [
      "Restaurant with the highest votes: Restaurant Name     Toit\n",
      "Votes              10934\n",
      "Name: 728, dtype: object\n",
      "Restaurant with the lowest votes: Restaurant Name    Cantinho da Gula\n",
      "Votes                             0\n",
      "Name: 69, dtype: object\n"
     ]
    }
   ],
   "source": [
    "highest_votes = df.loc[df['Votes'].idxmax(), ['Restaurant Name', 'Votes']]\n",
    "print(\"Restaurant with the highest votes:\", highest_votes)\n",
    "\n",
    "lowest_votes = df.loc[df['Votes'].idxmin(), ['Restaurant Name', 'Votes']]\n",
    "print(\"Restaurant with the lowest votes:\", lowest_votes)\n"
   ]
  },
  {
   "cell_type": "markdown",
   "metadata": {},
   "source": [
    "<h3><b>2: </b>Analyze if there is a correlation between the number of votes and the rating of a\n",
    "restaurant</h3>"
   ]
  },
  {
   "cell_type": "code",
   "execution_count": 28,
   "metadata": {},
   "outputs": [
    {
     "name": "stdout",
     "output_type": "stream",
     "text": [
      "Correlation between number of votes and rating: 0.31369058419541146\n"
     ]
    }
   ],
   "source": [
    "correlation = df['Votes'].corr(df['Aggregate rating'])\n",
    "print(\"Correlation between number of votes and rating:\", correlation)"
   ]
  }
 ],
 "metadata": {
  "kernelspec": {
   "display_name": "Python 3",
   "language": "python",
   "name": "python3"
  },
  "language_info": {
   "codemirror_mode": {
    "name": "ipython",
    "version": 3
   },
   "file_extension": ".py",
   "mimetype": "text/x-python",
   "name": "python",
   "nbconvert_exporter": "python",
   "pygments_lexer": "ipython3",
   "version": "3.12.1"
  }
 },
 "nbformat": 4,
 "nbformat_minor": 2
}
